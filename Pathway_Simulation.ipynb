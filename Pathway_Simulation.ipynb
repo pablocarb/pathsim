{
 "cells": [
  {
   "cell_type": "markdown",
   "metadata": {},
   "source": [
    "### How to simulate a pathway simple promoter (+rbs?) + enzyme with kinetics using Tellurium and Antinomy\n",
    "\n",
    "A model template has been initially generated using COPASI, although we will convert it into Antinomy model language in order to define modularly the model."
   ]
  },
  {
   "cell_type": "code",
   "execution_count": 1,
   "metadata": {},
   "outputs": [],
   "source": [
    "import tellurium as te\n",
    "import numpy as np"
   ]
  },
  {
   "cell_type": "markdown",
   "metadata": {},
   "source": [
    "Load the SBML template into Tellurium and simulate"
   ]
  },
  {
   "cell_type": "code",
   "execution_count": 115,
   "metadata": {},
   "outputs": [],
   "source": [
    "pw = te.loadSBMLModel('prom_enzyme.xml')"
   ]
  },
  {
   "cell_type": "code",
   "execution_count": 117,
   "metadata": {},
   "outputs": [],
   "source": [
    "results = []\n",
    "for k in range(1, 2):\n",
    "    pw.reset()\n",
    "    s = pw.simulate(0, 3600, 1000)\n",
    "    results.append(s)\n",
    "    pw.plot(s, show=False, alpha=0.7)\n",
    "te.show()"
   ]
  },
  {
   "cell_type": "code",
   "execution_count": 118,
   "metadata": {
    "scrolled": true
   },
   "outputs": [
    {
     "ename": "Exception",
     "evalue": "Antimony: 3 SBML error(s) when creating module 'New_Model'.  libAntimony tries to catch these errors before libSBML complains, but sometimes cannot.  Error message(s) from libSBML:\n\nOutside of a <functionDefinition>, if a <ci> element is the first element within a MathML <apply>, then the <ci>'s value can only be chosen from the set of identifiers of <functionDefinition>s defined in the SBML model.\nReference: L3V1 Section 4.3.2\n The formula 'function(Catalysis_kcat, Enzyme, Substrate, Catalysis_Km)' in the math element of the <kineticLaw> uses 'function' which is not a function definition id.\n\nThe interpretation the Hierarchical Model Composition constructs to produce a kind of 'flattened' version of the model devoid of the comp package constructs must produce a valid SBML Level 3 model.\nReference: L3V1 Comp V1 Appendix A1\n Errors that follow relate to the flattened document produced using the CompFlatteningConverter.\n\nOutside of a <functionDefinition>, if a <ci> element is the first element within a MathML <apply>, then the <ci>'s value can only be chosen from the set of identifiers of <functionDefinition>s defined in the SBML model.\nReference: L3V1 Section 4.3.2\n The formula 'function(Catalysis_kcat, Enzyme, Substrate, Catalysis_Km)' in the math element of the <kineticLaw> uses 'function' which is not a function definition id.\n",
     "output_type": "error",
     "traceback": [
      "Traceback \u001b[0;36m(most recent call last)\u001b[0m:\n",
      "  File \u001b[1;32m\"<ipython-input-118-5fa913d39d3e>\"\u001b[0m, line \u001b[1;32m2\u001b[0m, in \u001b[1;35m<module>\u001b[0m\n    print(pw.getAntimony())\n",
      "  File \u001b[1;32m\"/home/pablo/anaconda2/envs/pathdes/lib/python3.5/site-packages/tellurium/roadrunner/extended_roadrunner.py\"\u001b[0m, line \u001b[1;32m118\u001b[0m, in \u001b[1;35mgetAntimony\u001b[0m\n    return sbmlToAntimony(sbml)\n",
      "  File \u001b[1;32m\"/home/pablo/anaconda2/envs/pathdes/lib/python3.5/site-packages/tellurium/tellurium.py\"\u001b[0m, line \u001b[1;32m639\u001b[0m, in \u001b[1;35msbmlToAntimony\u001b[0m\n    _checkAntimonyReturnCode(code)\n",
      "\u001b[0;36m  File \u001b[0;32m\"/home/pablo/anaconda2/envs/pathdes/lib/python3.5/site-packages/tellurium/tellurium.py\"\u001b[0;36m, line \u001b[0;32m293\u001b[0;36m, in \u001b[0;35m_checkAntimonyReturnCode\u001b[0;36m\u001b[0m\n\u001b[0;31m    raise Exception('Antimony: {}'.format(antimony.getLastError()))\u001b[0m\n",
      "\u001b[0;31mException\u001b[0m\u001b[0;31m:\u001b[0m Antimony: 3 SBML error(s) when creating module 'New_Model'.  libAntimony tries to catch these errors before libSBML complains, but sometimes cannot.  Error message(s) from libSBML:\n\nOutside of a <functionDefinition>, if a <ci> element is the first element within a MathML <apply>, then the <ci>'s value can only be chosen from the set of identifiers of <functionDefinition>s defined in the SBML model.\nReference: L3V1 Section 4.3.2\n The formula 'function(Catalysis_kcat, Enzyme, Substrate, Catalysis_Km)' in the math element of the <kineticLaw> uses 'function' which is not a function definition id.\n\nThe interpretation the Hierarchical Model Composition constructs to produce a kind of 'flattened' version of the model devoid of the comp package constructs must produce a valid SBML Level 3 model.\nReference: L3V1 Comp V1 Appendix A1\n Errors that follow relate to the flattened document produced using the CompFlatteningConverter.\n\nOutside of a <functionDefinition>, if a <ci> element is the first element within a MathML <apply>, then the <ci>'s value can only be chosen from the set of identifiers of <functionDefinition>s defined in the SBML model.\nReference: L3V1 Section 4.3.2\n The formula 'function(Catalysis_kcat, Enzyme, Substrate, Catalysis_Km)' in the math element of the <kineticLaw> uses 'function' which is not a function definition id.\n\n"
     ]
    }
   ],
   "source": [
    "# Convert into Antinonmy\n",
    "print(pw.getAntimony())"
   ]
  },
  {
   "cell_type": "markdown",
   "metadata": {},
   "source": [
    "Define a model definition that will connect three genes and promoters"
   ]
  },
  {
   "cell_type": "code",
   "execution_count": 5,
   "metadata": {},
   "outputs": [],
   "source": [
    "def modelTemplate(nsteps):\n",
    "    antinom = \"\"\"\n",
    "    // Created by libAntimony v2.9.4\n",
    "        function Constant_flux__irreversible(v)\n",
    "          v;\n",
    "        end\n",
    "\n",
    "        function Henri_Michaelis_Menten__irreversible(substrate, Km, V)\n",
    "          V*substrate/(Km + substrate);\n",
    "        end\n",
    "\n",
    "        function Hill_Cooperativity(substrate, Shalve, V, h)\n",
    "          V*(substrate/Shalve)^h/(1 + (substrate/Shalve)^h);\n",
    "        end\n",
    "\n",
    "\n",
    "        model New_Model()\n",
    "\n",
    "          // Compartments and Species:\n",
    "          compartment Cell;\n",
    "          species Substrate in Cell, Product in Cell, Enzyme in Cell;\n",
    "          species Inducer in Cell, Activated_promoter in Cell;\n",
    "\n",
    "          // Reactions:\n",
    "          Induction: Inducer => Activated_promoter; Cell*Hill_Cooperativity(Inducer, Induction_Shalve, Induction_V, Induction_h);\n",
    "          Expression: Activated_promoter => Enzyme; Cell*Expression_k1*Activated_promoter;\n",
    "          Leakage:  => Enzyme; Cell*Constant_flux__irreversible(Leakage_v);\n",
    "          Degradation: Enzyme => ; Cell*Degradation_k1*Enzyme;\n",
    "          Catalysis: Substrate => Product; Cell*Henri_Michaelis_Menten__irreversible(Substrate, Catalysis_Km, Catalysis_V);\n",
    "\n",
    "         // Species initializations:\n",
    "          Substrate = 0.5;\n",
    "          Product = 0;\n",
    "          Enzyme = 0;\n",
    "          Inducer = 1;\n",
    "          Activated_promoter = 0;\n",
    "\n",
    "          // Compartment initializations:\n",
    "          Cell = 1;\n",
    "\n",
    "          // Variable initializations:\n",
    "          Induction_Shalve = 0.01;\n",
    "          Induction_V = 10000;\n",
    "          Induction_h = 4;\n",
    "          Expression_k1 = 100;\n",
    "          Leakage_v = 0.0001;\n",
    "          Degradation_k1 = 10;\n",
    "          Catalysis_Km = 0.1;\n",
    "          Catalysis_V = 0.1;\n",
    "\n",
    "          // Other declarations:\n",
    "          const Cell;\n",
    "\n",
    "        end\n",
    "        \n",
    "        \"\"\"\n",
    "    antinom += \"model *Big_Model()\"+\"\\n\"\n",
    "    for i in np.arange(nsteps):\n",
    "            antinom += \"\\t\"+\"m%d: New_Model();\" % (i+1,)\n",
    "            antinom += \"\\n\"\n",
    "    for i in np.arange(nsteps-1):\n",
    "            antinom += \"\\t\"+\"m%d.Product is m%d.Substrate;\" % (i+1, i+2)\n",
    "            antinom += \"\\n\"\n",
    "    antinom += \"end\\n\"\n",
    "    return te.loada(antinom)"
   ]
  },
  {
   "cell_type": "code",
   "execution_count": 6,
   "metadata": {
    "scrolled": true
   },
   "outputs": [],
   "source": [
    "mod = modelTemplate(5)\n",
    "mod['m3_Degradation_k1'] = 0.1\n",
    "mod['m2_Degradation_k1'] = 0.1\n",
    "mod['m5_Degradation_k1'] = 0.01\n",
    "mod['m4_Catalysis_V'] = 0.1\n",
    "mod['m5_Catalysis_Km'] = 1\n",
    "for step in np.arange(2,6):\n",
    "    mod['m'+str(step)+'_Substrate'] = 0"
   ]
  },
  {
   "cell_type": "code",
   "execution_count": 10,
   "metadata": {},
   "outputs": [],
   "source": [
    "results = []\n",
    "for k in range(1, 2):\n",
    "    mod.reset()\n",
    "    s = mod.simulate(0, 100, 100)\n",
    "    results.append(s)\n",
    "    mod.plot(s, show=False, alpha=0.7, loc='upperleft', figsize=(12,6))\n",
    "te.show()"
   ]
  },
  {
   "cell_type": "code",
   "execution_count": 113,
   "metadata": {},
   "outputs": [],
   "source": [
    "from pathSim import *"
   ]
  },
  {
   "cell_type": "code",
   "execution_count": 120,
   "metadata": {},
   "outputs": [],
   "source": [
    "mp = metPath(2)\n",
    "results = []\n",
    "for k in range(1, 100):\n",
    "    mp.sample()\n",
    "    mp.model.reset()\n",
    "    s = mp.model.simulate(0, 100, 100)\n",
    "    results.append(s)\n",
    "    mod.plot(s, show=False, alpha=0.7, loc='upperleft', figsize=(12,6))\n",
    "te.show()\n"
   ]
  },
  {
   "cell_type": "code",
   "execution_count": 66,
   "metadata": {},
   "outputs": [
    {
     "data": {
      "text/plain": [
       "array([1., 1., 1., 1.])"
      ]
     },
     "execution_count": 66,
     "metadata": {},
     "output_type": "execute_result"
    }
   ],
   "source": [
    "mp.model.getCompartmentVolumes()"
   ]
  },
  {
   "cell_type": "code",
   "execution_count": 53,
   "metadata": {},
   "outputs": [
    {
     "data": {
      "text/plain": [
       "10.0"
      ]
     },
     "execution_count": 53,
     "metadata": {},
     "output_type": "execute_result"
    }
   ],
   "source": [
    "mp.model['m1_Copy_number']"
   ]
  },
  {
   "cell_type": "code",
   "execution_count": 80,
   "metadata": {},
   "outputs": [
    {
     "data": {
      "text/plain": [
       "    m1_Substrate, m2_Substrate,   m1_Enzyme, m1_Inducer, m1_Activated_promoter, m2_Product,   m2_Enzyme,  m2_Inducer, m2_Activated_promoter\n",
       " [[   8.2283e-16,  1.30103e-10, 5.76653e-08, 0.00597405,           2.19571e-08,          1, 7.27906e-08, 0.000190888,           1.21681e-09]]"
      ]
     },
     "execution_count": 80,
     "metadata": {},
     "output_type": "execute_result"
    }
   ],
   "source": [
    "mp.model.getFloatingSpeciesAmounts()"
   ]
  },
  {
   "cell_type": "code",
   "execution_count": null,
   "metadata": {},
   "outputs": [],
   "source": []
  }
 ],
 "metadata": {
  "kernelspec": {
   "display_name": "Python 3 (Spyder)",
   "language": "python3",
   "name": "python3"
  },
  "language_info": {
   "codemirror_mode": {
    "name": "ipython",
    "version": 3
   },
   "file_extension": ".py",
   "mimetype": "text/x-python",
   "name": "python",
   "nbconvert_exporter": "python",
   "pygments_lexer": "ipython3",
   "version": "3.5.5"
  }
 },
 "nbformat": 4,
 "nbformat_minor": 2
}
